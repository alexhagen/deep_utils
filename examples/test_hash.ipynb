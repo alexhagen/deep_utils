{
 "cells": [
  {
   "cell_type": "code",
   "execution_count": 2,
   "metadata": {
    "collapsed": false,
    "deletable": true,
    "editable": true
   },
   "outputs": [],
   "source": [
    "import inspect\n",
    "from pyg import twod as pyg2d\n",
    "import weakref"
   ]
  },
  {
   "cell_type": "code",
   "execution_count": 5,
   "metadata": {
    "collapsed": true,
    "deletable": true,
    "editable": true
   },
   "outputs": [],
   "source": [
    "plot1 = pyg2d.pyg2d()\n",
    "plot2 = pyg2d.pyg2d()"
   ]
  },
  {
   "cell_type": "code",
   "execution_count": 6,
   "metadata": {
    "collapsed": false
   },
   "outputs": [
    {
     "name": "stdout",
     "output_type": "stream",
     "text": [
      "{'ax2': None, 'polar': False, 'bars': {}, 'leg': False, 'plotnum': 0, 'html_filename': None, 'counter': 3, 'lines': {}, 'regs': {}, 'height': 2.008610463437028, 'regnum': 0, 'width': 3.25, 'colors': {'yellow': '#b8b308', 'lightlightgray': '#e1e3e4', 'tan': '#baa892', 'blue': '#7299c6', 'lightblue': '#7ed0e0', 'darkblue': '#5c6f7b', 'black': '#000000', 'orange': '#f8981d', 'white': '#ffffff', 'red': '#b95915', 'brown': '#6b4536', 'oldgold': '#a3792c', 'darkred': '#7e543a', 'browngray': '#4d4038', 'lightgray': '#d1d3d4', 'gray': '#a7a9ac', 'darkgreen': '#3f4b00', 'lightyellow': '#d9da56', 'darkgray': '#746c66', 'purple': '#b63f97', 'newgold': '#e3ae24', 'green': '#5c8727', 'teal': '#2eafa4'}, 'rcparamsarray': {'path.simplify': True, 'text.latex.preamble': ['\\\\usepackage{nicefrac}', '\\\\usepackage{gensymb}', '\\\\usepackage{xcolor}', '\\\\definecolor{grey60}{HTML}{746C66}', '\\\\definecolor{grey40}{HTML}{A7A9AC}', '\\\\usepackage{amsmath, amssymb}', '\\\\usepackage{stackrel}', '\\\\providecommand{\\\\unit}[1]{\\\\ensuremath{\\\\textcolor{grey60}{\\\\mathrm{#1}}}}'], 'ytick.major.size': 2, 'axes.labelcolor': '#746C66', 'font.family': 'sans', 'xtick.major.width': 0.25, 'axes.labelsize': 'medium', 'pgf.preamble': ['\\\\usepackage{nicefrac}', '\\\\usepackage{gensymb}', '\\\\usepackage{xcolor}', '\\\\definecolor{grey60}{HTML}{746C66}', '\\\\definecolor{grey40}{HTML}{A7A9AC}', '\\\\usepackage{amsmath, amssymb}', '\\\\usepackage{stackrel}', '\\\\providecommand{\\\\unit}[1]{\\\\ensuremath{\\\\textcolor{grey60}{\\\\mathrm{#1}}}}'], 'font.size': 8.0, 'axes.edgecolor': '#746C66', 'axes.grid': False, 'legend.frameon': False, 'pgf.texsystem': 'lualatex', 'pgf.rcfonts': False, 'text.usetex': True, 'grid.alpha': 0.5, 'ytick.color': '#746C66', 'xtick.major.size': 2, 'savefig.transparent': True, 'figure.facecolor': 'none', 'xtick.color': '#746C66', 'grid.linewidth': 0.125, 'xtick.minor.width': 0.125, 'legend.fontsize': 'small', 'xtick.direction': 'in', 'grid.linestyle': ':', 'axes.facecolor': 'none', 'text.color': '#746C66', 'ytick.labelsize': 'small', 'xtick.labelsize': 'small', 'ytick.direction': 'in', 'axes.linewidth': 0.5, 'ytick.major.width': 0.25, 'ytick.minor.width': 0.125, 'grid.color': '#A7A9AC'}, 'reg_string': {}, 'fig': <matplotlib.figure.Figure object at 0x105851b10>, 'pdf_filename': None, 'artists': [], 'ax': <matplotlib.axes._subplots.AxesSubplot object at 0x1058e9dd0>, 'landscape': True, 'ax_subp': []}\n",
      "{'ax2': None, 'polar': False, 'bars': {}, 'leg': False, 'plotnum': 0, 'html_filename': None, 'counter': 4, 'lines': {}, 'regs': {}, 'height': 2.008610463437028, 'regnum': 0, 'width': 3.25, 'colors': {'yellow': '#b8b308', 'lightlightgray': '#e1e3e4', 'tan': '#baa892', 'blue': '#7299c6', 'lightblue': '#7ed0e0', 'darkblue': '#5c6f7b', 'black': '#000000', 'orange': '#f8981d', 'white': '#ffffff', 'red': '#b95915', 'brown': '#6b4536', 'oldgold': '#a3792c', 'darkred': '#7e543a', 'browngray': '#4d4038', 'lightgray': '#d1d3d4', 'gray': '#a7a9ac', 'darkgreen': '#3f4b00', 'lightyellow': '#d9da56', 'darkgray': '#746c66', 'purple': '#b63f97', 'newgold': '#e3ae24', 'green': '#5c8727', 'teal': '#2eafa4'}, 'rcparamsarray': {'path.simplify': True, 'text.latex.preamble': ['\\\\usepackage{nicefrac}', '\\\\usepackage{gensymb}', '\\\\usepackage{xcolor}', '\\\\definecolor{grey60}{HTML}{746C66}', '\\\\definecolor{grey40}{HTML}{A7A9AC}', '\\\\usepackage{amsmath, amssymb}', '\\\\usepackage{stackrel}', '\\\\providecommand{\\\\unit}[1]{\\\\ensuremath{\\\\textcolor{grey60}{\\\\mathrm{#1}}}}'], 'ytick.major.size': 2, 'axes.labelcolor': '#746C66', 'font.family': 'sans', 'xtick.major.width': 0.25, 'axes.labelsize': 'medium', 'pgf.preamble': ['\\\\usepackage{nicefrac}', '\\\\usepackage{gensymb}', '\\\\usepackage{xcolor}', '\\\\definecolor{grey60}{HTML}{746C66}', '\\\\definecolor{grey40}{HTML}{A7A9AC}', '\\\\usepackage{amsmath, amssymb}', '\\\\usepackage{stackrel}', '\\\\providecommand{\\\\unit}[1]{\\\\ensuremath{\\\\textcolor{grey60}{\\\\mathrm{#1}}}}'], 'font.size': 8.0, 'axes.edgecolor': '#746C66', 'axes.grid': False, 'legend.frameon': False, 'pgf.texsystem': 'lualatex', 'pgf.rcfonts': False, 'text.usetex': True, 'grid.alpha': 0.5, 'ytick.color': '#746C66', 'xtick.major.size': 2, 'savefig.transparent': True, 'figure.facecolor': 'none', 'xtick.color': '#746C66', 'grid.linewidth': 0.125, 'xtick.minor.width': 0.125, 'legend.fontsize': 'small', 'xtick.direction': 'in', 'grid.linestyle': ':', 'axes.facecolor': 'none', 'text.color': '#746C66', 'ytick.labelsize': 'small', 'xtick.labelsize': 'small', 'ytick.direction': 'in', 'axes.linewidth': 0.5, 'ytick.major.width': 0.25, 'ytick.minor.width': 0.125, 'grid.color': '#A7A9AC'}, 'reg_string': {}, 'fig': <matplotlib.figure.Figure object at 0x10593ed90>, 'pdf_filename': None, 'artists': [], 'ax': <matplotlib.axes._subplots.AxesSubplot object at 0x1059ce950>, 'landscape': True, 'ax_subp': []}\n"
     ]
    }
   ],
   "source": [
    "print plot1.__dict__\n",
    "print plot2.__dict__"
   ]
  },
  {
   "cell_type": "code",
   "execution_count": 11,
   "metadata": {
    "collapsed": false,
    "deletable": true,
    "editable": true
   },
   "outputs": [
    {
     "name": "stdout",
     "output_type": "stream",
     "text": [
      "False\n",
      "['ax2', 'polar', 'bars', 'ax', 'leg', 'plotnum', 'counter', 'lines', 'regs', 'height', 'regnum', 'width', 'colors', 'html_filename', 'fig', 'pdf_filename', 'rcparamsarray', 'reg_string', 'artists', 'landscape', 'ax_subp']\n",
      "['ax2', 'polar', 'bars', 'leg', 'plotnum', 'counter', 'lines', 'regs', 'height', 'regnum', 'width', 'colors', 'html_filename', 'pdf_filename', 'rcparamsarray', 'reg_string', 'artists', 'landscape', 'ax_subp']\n",
      "ax leg\n",
      "leg plotnum\n",
      "plotnum counter\n",
      "counter lines\n",
      "lines regs\n",
      "regs height\n",
      "height regnum\n",
      "regnum width\n",
      "width colors\n",
      "colors html_filename\n",
      "html_filename pdf_filename\n",
      "fig rcparamsarray\n",
      "pdf_filename reg_string\n",
      "rcparamsarray artists\n",
      "reg_string landscape\n",
      "artists ax_subp\n"
     ]
    }
   ],
   "source": [
    "def deep_inspect(obj, inspected=[]):\n",
    "    arr = obj.__dict__ #inspect.getmembers(obj)\n",
    "    _dict = {}\n",
    "    for member in arr.items():\n",
    "        if inspect.isfunction(member[1]):\n",
    "            pass\n",
    "        elif inspect.ismethod(member[1]):\n",
    "            pass\n",
    "        elif inspect.isbuiltin(member[1]):\n",
    "            pass\n",
    "        elif inspect.isclass(member[1]):\n",
    "            pass\n",
    "        elif str(member[0]) + str(member[1]) in inspected:\n",
    "            pass\n",
    "        elif member[0] == '__weakref__':\n",
    "            #print member[0], member[1]\n",
    "            _dict[member[0]] = member[1]\n",
    "            if isinstance(member[1], weakref.ref):\n",
    "                print member[1].name\n",
    "                #print dir(member[1])\n",
    "                #print member[1]().__repr__()\n",
    "                #print member[1]().__str__()\n",
    "                #print member[1]()\n",
    "                pass\n",
    "            else:\n",
    "                #print dir(member[1])\n",
    "                pass\n",
    "        elif member[0][0:2] == '__':\n",
    "            pass\n",
    "        elif hasattr(member[1], '__dict__'):\n",
    "            inspected.extend([str(member[0]) + str(member[1])])\n",
    "            _dict[member[0]] = deep_inspect(member[1], inspected)\n",
    "        else:\n",
    "            _dict[member[0]] = member[1]\n",
    "    #print inspected\n",
    "    return _dict\n",
    "\n",
    "dict1 = deep_inspect(plot1)\n",
    "dict2 = deep_inspect(plot2)\n",
    "print dict1 == dict2\n",
    "\n",
    "print dict1.keys()\n",
    "print dict2.keys()\n",
    "\n",
    "for key1, val1, key2, val2 in zip(dict1.keys(), dict1.items(), dict2.keys(), dict2.items()):\n",
    "    if key1 != key2 or val1 != val2:\n",
    "        print key1, key2\n"
   ]
  },
  {
   "cell_type": "code",
   "execution_count": null,
   "metadata": {
    "collapsed": true,
    "deletable": true,
    "editable": true
   },
   "outputs": [],
   "source": []
  }
 ],
 "metadata": {
  "hide_input": false,
  "kernelspec": {
   "display_name": "Python 2",
   "language": "python",
   "name": "python2"
  },
  "language_info": {
   "codemirror_mode": {
    "name": "ipython",
    "version": 2
   },
   "file_extension": ".py",
   "mimetype": "text/x-python",
   "name": "python",
   "nbconvert_exporter": "python",
   "pygments_lexer": "ipython2",
   "version": "2.7.13"
  },
  "latex_envs": {
   "LaTeX_envs_menu_present": true,
   "autocomplete": true,
   "bibliofile": "biblio.bib",
   "cite_by": "apalike",
   "current_citInitial": 1,
   "eqLabelWithNumbers": true,
   "eqNumInitial": 1,
   "hotkeys": {
    "equation": "Ctrl-E",
    "itemize": "Ctrl-I"
   },
   "labels_anchors": false,
   "latex_user_defs": false,
   "report_style_numbering": false,
   "user_envs_cfg": false
  }
 },
 "nbformat": 4,
 "nbformat_minor": 2
}
